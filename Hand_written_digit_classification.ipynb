{
  "nbformat": 4,
  "nbformat_minor": 0,
  "metadata": {
    "colab": {
      "provenance": [],
      "authorship_tag": "ABX9TyO7McTx0CzfOENAOZOSdIxi",
      "include_colab_link": true
    },
    "kernelspec": {
      "name": "python3",
      "display_name": "Python 3"
    },
    "language_info": {
      "name": "python"
    }
  },
  "cells": [
    {
      "cell_type": "markdown",
      "metadata": {
        "id": "view-in-github",
        "colab_type": "text"
      },
      "source": [
        "<a href=\"https://colab.research.google.com/github/Sreenathkk00/Machine-Learning-Projects/blob/main/Hand_written_digit_classification.ipynb\" target=\"_parent\"><img src=\"https://colab.research.google.com/assets/colab-badge.svg\" alt=\"Open In Colab\"/></a>"
      ]
    },
    {
      "cell_type": "markdown",
      "source": [
        "# **Hand Written Digit Classification**\n",
        "\n",
        "---\n",
        "\n"
      ],
      "metadata": {
        "id": "BZkx4OxyP3wI"
      }
    },
    {
      "cell_type": "markdown",
      "source": [
        "## **Objective**\n",
        "\n",
        "* This project aims to construct a machine learning model capable of accurately classifying handwritten digits.\n",
        "* The model will be trained on a dataset of labeled images containing handwritten digits (0-9).\n",
        "* The trained model will then be able to predict the digit represented by a new, unseen handwritten image."
      ],
      "metadata": {
        "id": "N6a5aTUTWnbl"
      }
    },
    {
      "cell_type": "markdown",
      "source": [
        "## **Data Source**\n",
        "\n",
        "### Dataset Information\n",
        "- **Source:** YBI Foundation's GitHub repository\n",
        "- **Content:** Images of handwritten digits (0-9) with corresponding labels\n",
        "- **Purpose:** Suitable for training machine learning models for digit classification\n",
        "\n",
        "### Accessing the Data\n",
        "- **Download Link:** [YBI Foundation's GitHub repository](https://github.com/ybibus/handwritten-digit-classification)\n",
        "\n",
        "### Data Format\n",
        "- **Structure:** Organized into folders by digit class (0-9)\n",
        "- **Images:** Grayscale format, consistent size\n",
        "\n",
        "### Utilization\n",
        "- **Model Training:** Suitable for training models such as CNNs or SVMs\n",
        "- **Application:** Trained models can predict digits from new handwritten images\n",
        "\n",
        "### Benefits\n",
        "1. **Data Quality:** High-quality images with clear, consistent labeling\n",
        "2. **Data Size:** Sufficiently large for robust model training\n",
        "3. **Open Access:** Freely available for download and use by researchers and enthusiasts"
      ],
      "metadata": {
        "id": "y-C4zxSiWt7Z"
      }
    },
    {
      "cell_type": "markdown",
      "source": [
        "## **Import Library**"
      ],
      "metadata": {
        "id": "sUz54Nw6QATN"
      }
    },
    {
      "cell_type": "code",
      "execution_count": 68,
      "metadata": {
        "id": "TSasQa1aPoI-"
      },
      "outputs": [],
      "source": [
        "import pandas as pd\n",
        "import numpy as np\n",
        "import matplotlib.pyplot as plt"
      ]
    },
    {
      "cell_type": "markdown",
      "source": [
        "## **Import Data**"
      ],
      "metadata": {
        "id": "3U014VH6QS0_"
      }
    },
    {
      "cell_type": "code",
      "source": [
        "from sklearn.datasets import load_digits\n",
        "df = load_digits()\n",
        "\n"
      ],
      "metadata": {
        "id": "sfMm0ng_QUiP"
      },
      "execution_count": 102,
      "outputs": []
    },
    {
      "cell_type": "markdown",
      "source": [
        "## **Describe Data**"
      ],
      "metadata": {
        "id": "ww7uE9bHZ-uz"
      }
    },
    {
      "cell_type": "code",
      "source": [
        "print(df.DESCR)"
      ],
      "metadata": {
        "colab": {
          "base_uri": "https://localhost:8080/"
        },
        "id": "5B5OPexSdd8k",
        "outputId": "10812283-3be4-4969-db1f-9270ec6d7efb"
      },
      "execution_count": 103,
      "outputs": [
        {
          "output_type": "stream",
          "name": "stdout",
          "text": [
            ".. _digits_dataset:\n",
            "\n",
            "Optical recognition of handwritten digits dataset\n",
            "--------------------------------------------------\n",
            "\n",
            "**Data Set Characteristics:**\n",
            "\n",
            "    :Number of Instances: 1797\n",
            "    :Number of Attributes: 64\n",
            "    :Attribute Information: 8x8 image of integer pixels in the range 0..16.\n",
            "    :Missing Attribute Values: None\n",
            "    :Creator: E. Alpaydin (alpaydin '@' boun.edu.tr)\n",
            "    :Date: July; 1998\n",
            "\n",
            "This is a copy of the test set of the UCI ML hand-written digits datasets\n",
            "https://archive.ics.uci.edu/ml/datasets/Optical+Recognition+of+Handwritten+Digits\n",
            "\n",
            "The data set contains images of hand-written digits: 10 classes where\n",
            "each class refers to a digit.\n",
            "\n",
            "Preprocessing programs made available by NIST were used to extract\n",
            "normalized bitmaps of handwritten digits from a preprinted form. From a\n",
            "total of 43 people, 30 contributed to the training set and different 13\n",
            "to the test set. 32x32 bitmaps are divided into nonoverlapping blocks of\n",
            "4x4 and the number of on pixels are counted in each block. This generates\n",
            "an input matrix of 8x8 where each element is an integer in the range\n",
            "0..16. This reduces dimensionality and gives invariance to small\n",
            "distortions.\n",
            "\n",
            "For info on NIST preprocessing routines, see M. D. Garris, J. L. Blue, G.\n",
            "T. Candela, D. L. Dimmick, J. Geist, P. J. Grother, S. A. Janet, and C.\n",
            "L. Wilson, NIST Form-Based Handprint Recognition System, NISTIR 5469,\n",
            "1994.\n",
            "\n",
            ".. topic:: References\n",
            "\n",
            "  - C. Kaynak (1995) Methods of Combining Multiple Classifiers and Their\n",
            "    Applications to Handwritten Digit Recognition, MSc Thesis, Institute of\n",
            "    Graduate Studies in Science and Engineering, Bogazici University.\n",
            "  - E. Alpaydin, C. Kaynak (1998) Cascading Classifiers, Kybernetika.\n",
            "  - Ken Tang and Ponnuthurai N. Suganthan and Xi Yao and A. Kai Qin.\n",
            "    Linear dimensionalityreduction using relevance weighted LDA. School of\n",
            "    Electrical and Electronic Engineering Nanyang Technological University.\n",
            "    2005.\n",
            "  - Claudio Gentile. A New Approximate Maximal Margin Classification\n",
            "    Algorithm. NIPS. 2000.\n",
            "\n"
          ]
        }
      ]
    },
    {
      "cell_type": "markdown",
      "source": [
        "## **Data Visualization**"
      ],
      "metadata": {
        "id": "moUvHTdHVKWv"
      }
    },
    {
      "cell_type": "code",
      "source": [
        "_, axes = plt.subplots(nrows=1, ncols=4, figsize=(10, 3))\n",
        "for ax, image, label in zip(axes, df.images, df.target):\n",
        "    ax.set_axis_off()\n",
        "    ax.imshow(image, cmap=plt.cm.gray_r, interpolation=\"nearest\")\n",
        "    ax.set_title(\"Training: %i\" % label)"
      ],
      "metadata": {
        "colab": {
          "base_uri": "https://localhost:8080/",
          "height": 227
        },
        "id": "N6n2imbqQyr6",
        "outputId": "a4d44afb-f8b6-4596-a646-13d0ad5a14e8"
      },
      "execution_count": 73,
      "outputs": [
        {
          "output_type": "display_data",
          "data": {
            "text/plain": [
              "<Figure size 1000x300 with 4 Axes>"
            ],
            "image/png": "[encoded data removed]"
          },
          "metadata": {}
        }
      ]
    },
    {
      "cell_type": "markdown",
      "source": [
        "## **Data Procecessing**"
      ],
      "metadata": {
        "id": "2CeB54pbSTZn"
      }
    },
    {
      "cell_type": "code",
      "source": [
        "df.images.shape"
      ],
      "metadata": {
        "colab": {
          "base_uri": "https://localhost:8080/"
        },
        "id": "VzPfU_QGSBDD",
        "outputId": "72f7bbc3-2be9-4c63-dc14-f712822c2ab3"
      },
      "execution_count": 74,
      "outputs": [
        {
          "output_type": "execute_result",
          "data": {
            "text/plain": [
              "(1797, 8, 8)"
            ]
          },
          "metadata": {},
          "execution_count": 74
        }
      ]
    },
    {
      "cell_type": "code",
      "source": [
        "df.images[0]"
      ],
      "metadata": {
        "colab": {
          "base_uri": "https://localhost:8080/"
        },
        "id": "Ezbqf3gWSrFX",
        "outputId": "f580c41b-21fe-4339-b45f-f13d41a35055"
      },
      "execution_count": 75,
      "outputs": [
        {
          "output_type": "execute_result",
          "data": {
            "text/plain": [
              "array([[ 0.,  0.,  5., 13.,  9.,  1.,  0.,  0.],\n",
              "       [ 0.,  0., 13., 15., 10., 15.,  5.,  0.],\n",
              "       [ 0.,  3., 15.,  2.,  0., 11.,  8.,  0.],\n",
              "       [ 0.,  4., 12.,  0.,  0.,  8.,  8.,  0.],\n",
              "       [ 0.,  5.,  8.,  0.,  0.,  9.,  8.,  0.],\n",
              "       [ 0.,  4., 11.,  0.,  1., 12.,  7.,  0.],\n",
              "       [ 0.,  2., 14.,  5., 10., 12.,  0.,  0.],\n",
              "       [ 0.,  0.,  6., 13., 10.,  0.,  0.,  0.]])"
            ]
          },
          "metadata": {},
          "execution_count": 75
        }
      ]
    },
    {
      "cell_type": "code",
      "source": [
        "df.images[0].shape\n"
      ],
      "metadata": {
        "colab": {
          "base_uri": "https://localhost:8080/"
        },
        "id": "d_uylt0TS2KN",
        "outputId": "7be29f1a-daee-4dff-ab98-79d958821c12"
      },
      "execution_count": 76,
      "outputs": [
        {
          "output_type": "execute_result",
          "data": {
            "text/plain": [
              "(8, 8)"
            ]
          },
          "metadata": {},
          "execution_count": 76
        }
      ]
    },
    {
      "cell_type": "code",
      "source": [
        "len(df.images)"
      ],
      "metadata": {
        "colab": {
          "base_uri": "https://localhost:8080/"
        },
        "id": "nAyq9cYrS6i-",
        "outputId": "0c821044-7359-442c-baeb-857b024b3d64"
      },
      "execution_count": 77,
      "outputs": [
        {
          "output_type": "execute_result",
          "data": {
            "text/plain": [
              "1797"
            ]
          },
          "metadata": {},
          "execution_count": 77
        }
      ]
    },
    {
      "cell_type": "code",
      "source": [
        "n_samples = len(df.images)\n",
        "data = df.images.reshape((n_samples, -1))"
      ],
      "metadata": {
        "id": "VIvvmy19TCWk"
      },
      "execution_count": 78,
      "outputs": []
    },
    {
      "cell_type": "code",
      "source": [
        "data[0]"
      ],
      "metadata": {
        "colab": {
          "base_uri": "https://localhost:8080/"
        },
        "id": "-YsSO_UyTSdb",
        "outputId": "e1ce6149-0265-459b-b206-9b7a150eb631"
      },
      "execution_count": 79,
      "outputs": [
        {
          "output_type": "execute_result",
          "data": {
            "text/plain": [
              "array([ 0.,  0.,  5., 13.,  9.,  1.,  0.,  0.,  0.,  0., 13., 15., 10.,\n",
              "       15.,  5.,  0.,  0.,  3., 15.,  2.,  0., 11.,  8.,  0.,  0.,  4.,\n",
              "       12.,  0.,  0.,  8.,  8.,  0.,  0.,  5.,  8.,  0.,  0.,  9.,  8.,\n",
              "        0.,  0.,  4., 11.,  0.,  1., 12.,  7.,  0.,  0.,  2., 14.,  5.,\n",
              "       10., 12.,  0.,  0.,  0.,  0.,  6., 13., 10.,  0.,  0.,  0.])"
            ]
          },
          "metadata": {},
          "execution_count": 79
        }
      ]
    },
    {
      "cell_type": "code",
      "source": [
        "data[0].shape"
      ],
      "metadata": {
        "id": "-uG35dXKdPTj"
      },
      "execution_count": null,
      "outputs": []
    },
    {
      "cell_type": "code",
      "source": [
        "data.shape"
      ],
      "metadata": {
        "id": "WKFHSHfLdNUg"
      },
      "execution_count": null,
      "outputs": []
    },
    {
      "cell_type": "markdown",
      "source": [
        "## **Scaling Image Data**"
      ],
      "metadata": {
        "id": "RJS7weYETfVg"
      }
    },
    {
      "cell_type": "code",
      "source": [
        "data.min()"
      ],
      "metadata": {
        "colab": {
          "base_uri": "https://localhost:8080/"
        },
        "id": "GsSJih46Tb_X",
        "outputId": "e0920bc9-4c14-4e6f-bb18-0f3e57bb0618"
      },
      "execution_count": 82,
      "outputs": [
        {
          "output_type": "execute_result",
          "data": {
            "text/plain": [
              "0.0"
            ]
          },
          "metadata": {},
          "execution_count": 82
        }
      ]
    },
    {
      "cell_type": "code",
      "source": [
        "data.max()"
      ],
      "metadata": {
        "colab": {
          "base_uri": "https://localhost:8080/"
        },
        "id": "XvI_h4h7TZQ7",
        "outputId": "c36c6a00-be84-43f8-bc4d-dbd47f3bce1e"
      },
      "execution_count": 83,
      "outputs": [
        {
          "output_type": "execute_result",
          "data": {
            "text/plain": [
              "16.0"
            ]
          },
          "metadata": {},
          "execution_count": 83
        }
      ]
    },
    {
      "cell_type": "code",
      "source": [
        "data = data/16"
      ],
      "metadata": {
        "id": "k-Z0o6TmTl0X"
      },
      "execution_count": 84,
      "outputs": []
    },
    {
      "cell_type": "code",
      "source": [
        "data.min()"
      ],
      "metadata": {
        "colab": {
          "base_uri": "https://localhost:8080/"
        },
        "id": "ygM8sPiKTo0I",
        "outputId": "4b1044c5-67bd-4e48-ea7f-9a55d9d055c4"
      },
      "execution_count": 85,
      "outputs": [
        {
          "output_type": "execute_result",
          "data": {
            "text/plain": [
              "0.0"
            ]
          },
          "metadata": {},
          "execution_count": 85
        }
      ]
    },
    {
      "cell_type": "code",
      "source": [
        "data.max()"
      ],
      "metadata": {
        "colab": {
          "base_uri": "https://localhost:8080/"
        },
        "id": "T9gqMtJuTsZh",
        "outputId": "e84d1cef-fd73-44c3-ca42-52b6b46bace0"
      },
      "execution_count": 86,
      "outputs": [
        {
          "output_type": "execute_result",
          "data": {
            "text/plain": [
              "1.0"
            ]
          },
          "metadata": {},
          "execution_count": 86
        }
      ]
    },
    {
      "cell_type": "code",
      "source": [
        "data[0]"
      ],
      "metadata": {
        "colab": {
          "base_uri": "https://localhost:8080/"
        },
        "id": "vAzN3orDTvzF",
        "outputId": "f03af843-8524-444c-bc27-8d6f4c0f6973"
      },
      "execution_count": 87,
      "outputs": [
        {
          "output_type": "execute_result",
          "data": {
            "text/plain": [
              "array([0.    , 0.    , 0.3125, 0.8125, 0.5625, 0.0625, 0.    , 0.    ,\n",
              "       0.    , 0.    , 0.8125, 0.9375, 0.625 , 0.9375, 0.3125, 0.    ,\n",
              "       0.    , 0.1875, 0.9375, 0.125 , 0.    , 0.6875, 0.5   , 0.    ,\n",
              "       0.    , 0.25  , 0.75  , 0.    , 0.    , 0.5   , 0.5   , 0.    ,\n",
              "       0.    , 0.3125, 0.5   , 0.    , 0.    , 0.5625, 0.5   , 0.    ,\n",
              "       0.    , 0.25  , 0.6875, 0.    , 0.0625, 0.75  , 0.4375, 0.    ,\n",
              "       0.    , 0.125 , 0.875 , 0.3125, 0.625 , 0.75  , 0.    , 0.    ,\n",
              "       0.    , 0.    , 0.375 , 0.8125, 0.625 , 0.    , 0.    , 0.    ])"
            ]
          },
          "metadata": {},
          "execution_count": 87
        }
      ]
    },
    {
      "cell_type": "markdown",
      "source": [
        "## **Train Test Split**"
      ],
      "metadata": {
        "id": "VzsA5ObdT4Y-"
      }
    },
    {
      "cell_type": "code",
      "source": [
        "from sklearn.model_selection import train_test_split"
      ],
      "metadata": {
        "id": "giBhU9RidK6m"
      },
      "execution_count": null,
      "outputs": []
    },
    {
      "cell_type": "code",
      "source": [
        "x_train, x_test, y_train, y_test = train_test_split(data, df.target, test_size=0.3)"
      ],
      "metadata": {
        "id": "RoutQrBeT-Wt"
      },
      "execution_count": 89,
      "outputs": []
    },
    {
      "cell_type": "code",
      "source": [
        "x_train.shape, x_test.shape, y_train.shape, y_test.shape\n"
      ],
      "metadata": {
        "colab": {
          "base_uri": "https://localhost:8080/"
        },
        "id": "C2CTFPWLUGXh",
        "outputId": "26b51503-276a-492f-da14-1ded63d03a95"
      },
      "execution_count": 90,
      "outputs": [
        {
          "output_type": "execute_result",
          "data": {
            "text/plain": [
              "((1257, 64), (540, 64), (1257,), (540,))"
            ]
          },
          "metadata": {},
          "execution_count": 90
        }
      ]
    },
    {
      "cell_type": "markdown",
      "source": [
        "## **Random Forest Model**"
      ],
      "metadata": {
        "id": "FwDlQTStUK73"
      }
    },
    {
      "cell_type": "code",
      "source": [
        "from sklearn.ensemble import RandomForestClassifier"
      ],
      "metadata": {
        "id": "jciyYk-OdHS4"
      },
      "execution_count": null,
      "outputs": []
    },
    {
      "cell_type": "code",
      "source": [
        "rf = RandomForestClassifier()"
      ],
      "metadata": {
        "id": "BsybCRM7UQAN"
      },
      "execution_count": 92,
      "outputs": []
    },
    {
      "cell_type": "code",
      "source": [
        "rf.fit(x_train, y_train)"
      ],
      "metadata": {
        "colab": {
          "base_uri": "https://localhost:8080/",
          "height": 74
        },
        "id": "AaEXILM5UTaX",
        "outputId": "28969b32-7d03-412d-a646-5773ad8b697c"
      },
      "execution_count": 93,
      "outputs": [
        {
          "output_type": "execute_result",
          "data": {
            "text/plain": [
              "RandomForestClassifier()"
            ],
            "text/html": [
              "<style>#sk-container-id-2 {color: black;background-color: white;}#sk-container-id-2 pre{padding: 0;}#sk-container-id-2 div.sk-toggleable {background-color: white;}#sk-container-id-2 label.sk-toggleable__label {cursor: pointer;display: block;width: 100%;margin-bottom: 0;padding: 0.3em;box-sizing: border-box;text-align: center;}#sk-container-id-2 label.sk-toggleable__label-arrow:before {content: \"▸\";float: left;margin-right: 0.25em;color: #696969;}#sk-container-id-2 label.sk-toggleable__label-arrow:hover:before {color: black;}#sk-container-id-2 div.sk-estimator:hover label.sk-toggleable__label-arrow:before {color: black;}#sk-container-id-2 div.sk-toggleable__content {max-height: 0;max-width: 0;overflow: hidden;text-align: left;background-color: #f0f8ff;}#sk-container-id-2 div.sk-toggleable__content pre {margin: 0.2em;color: black;border-radius: 0.25em;background-color: #f0f8ff;}#sk-container-id-2 input.sk-toggleable__control:checked~div.sk-toggleable__content {max-height: 200px;max-width: 100%;overflow: auto;}#sk-container-id-2 input.sk-toggleable__control:checked~label.sk-toggleable__label-arrow:before {content: \"▾\";}#sk-container-id-2 div.sk-estimator input.sk-toggleable__control:checked~label.sk-toggleable__label {background-color: #d4ebff;}#sk-container-id-2 div.sk-label input.sk-toggleable__control:checked~label.sk-toggleable__label {background-color: #d4ebff;}#sk-container-id-2 input.sk-hidden--visually {border: 0;clip: rect(1px 1px 1px 1px);clip: rect(1px, 1px, 1px, 1px);height: 1px;margin: -1px;overflow: hidden;padding: 0;position: absolute;width: 1px;}#sk-container-id-2 div.sk-estimator {font-family: monospace;background-color: #f0f8ff;border: 1px dotted black;border-radius: 0.25em;box-sizing: border-box;margin-bottom: 0.5em;}#sk-container-id-2 div.sk-estimator:hover {background-color: #d4ebff;}#sk-container-id-2 div.sk-parallel-item::after {content: \"\";width: 100%;border-bottom: 1px solid gray;flex-grow: 1;}#sk-container-id-2 div.sk-label:hover label.sk-toggleable__label {background-color: #d4ebff;}#sk-container-id-2 div.sk-serial::before {content: \"\";position: absolute;border-left: 1px solid gray;box-sizing: border-box;top: 0;bottom: 0;left: 50%;z-index: 0;}#sk-container-id-2 div.sk-serial {display: flex;flex-direction: column;align-items: center;background-color: white;padding-right: 0.2em;padding-left: 0.2em;position: relative;}#sk-container-id-2 div.sk-item {position: relative;z-index: 1;}#sk-container-id-2 div.sk-parallel {display: flex;align-items: stretch;justify-content: center;background-color: white;position: relative;}#sk-container-id-2 div.sk-item::before, #sk-container-id-2 div.sk-parallel-item::before {content: \"\";position: absolute;border-left: 1px solid gray;box-sizing: border-box;top: 0;bottom: 0;left: 50%;z-index: -1;}#sk-container-id-2 div.sk-parallel-item {display: flex;flex-direction: column;z-index: 1;position: relative;background-color: white;}#sk-container-id-2 div.sk-parallel-item:first-child::after {align-self: flex-end;width: 50%;}#sk-container-id-2 div.sk-parallel-item:last-child::after {align-self: flex-start;width: 50%;}#sk-container-id-2 div.sk-parallel-item:only-child::after {width: 0;}#sk-container-id-2 div.sk-dashed-wrapped {border: 1px dashed gray;margin: 0 0.4em 0.5em 0.4em;box-sizing: border-box;padding-bottom: 0.4em;background-color: white;}#sk-container-id-2 div.sk-label label {font-family: monospace;font-weight: bold;display: inline-block;line-height: 1.2em;}#sk-container-id-2 div.sk-label-container {text-align: center;}#sk-container-id-2 div.sk-container {/* jupyter's `normalize.less` sets `[hidden] { display: none; }` but bootstrap.min.css set `[hidden] { display: none !important; }` so we also need the `!important` here to be able to override the default hidden behavior on the sphinx rendered scikit-learn.org. See: https://github.com/scikit-learn/scikit-learn/issues/21755 */display: inline-block !important;position: relative;}#sk-container-id-2 div.sk-text-repr-fallback {display: none;}</style><div id=\"sk-container-id-2\" class=\"sk-top-container\"><div class=\"sk-text-repr-fallback\"><pre>RandomForestClassifier()</pre><b>In a Jupyter environment, please rerun this cell to show the HTML representation or trust the notebook. <br />On GitHub, the HTML representation is unable to render, please try loading this page with nbviewer.org.</b></div><div class=\"sk-container\" hidden><div class=\"sk-item\"><div class=\"sk-estimator sk-toggleable\"><input class=\"sk-toggleable__control sk-hidden--visually\" id=\"sk-estimator-id-2\" type=\"checkbox\" checked><label for=\"sk-estimator-id-2\" class=\"sk-toggleable__label sk-toggleable__label-arrow\">RandomForestClassifier</label><div class=\"sk-toggleable__content\"><pre>RandomForestClassifier()</pre></div></div></div></div></div>"
            ]
          },
          "metadata": {},
          "execution_count": 93
        }
      ]
    },
    {
      "cell_type": "code",
      "source": [
        "y_pred = rf.predict(x_test)\n",
        "y_pred"
      ],
      "metadata": {
        "colab": {
          "base_uri": "https://localhost:8080/"
        },
        "id": "Ss5e4Y3IUVgY",
        "outputId": "d1066387-95a1-475f-cfe1-ebdc4415453d"
      },
      "execution_count": 94,
      "outputs": [
        {
          "output_type": "execute_result",
          "data": {
            "text/plain": [
              "array([2, 5, 6, 2, 6, 1, 7, 2, 3, 3, 1, 8, 5, 8, 0, 5, 9, 4, 0, 3, 8, 0,\n",
              "       7, 5, 8, 0, 1, 3, 4, 4, 2, 6, 0, 4, 1, 6, 0, 9, 1, 9, 1, 0, 7, 3,\n",
              "       3, 4, 1, 2, 8, 3, 1, 5, 3, 7, 2, 4, 5, 1, 9, 2, 8, 0, 9, 3, 8, 8,\n",
              "       2, 3, 7, 9, 8, 2, 6, 6, 9, 9, 1, 1, 9, 9, 1, 5, 4, 0, 7, 2, 3, 1,\n",
              "       9, 9, 4, 2, 6, 7, 9, 8, 2, 2, 5, 6, 2, 8, 6, 7, 1, 4, 8, 3, 0, 1,\n",
              "       0, 2, 2, 0, 1, 3, 9, 1, 8, 2, 0, 8, 3, 3, 3, 0, 0, 9, 4, 1, 3, 6,\n",
              "       6, 0, 0, 8, 1, 4, 1, 1, 4, 9, 2, 3, 5, 7, 1, 3, 6, 8, 1, 8, 4, 1,\n",
              "       5, 0, 0, 6, 6, 2, 2, 9, 9, 1, 9, 9, 0, 9, 1, 9, 5, 6, 4, 5, 0, 4,\n",
              "       8, 8, 0, 2, 5, 9, 1, 9, 9, 7, 8, 6, 6, 8, 1, 2, 0, 4, 0, 0, 4, 4,\n",
              "       7, 7, 0, 0, 7, 5, 1, 5, 7, 4, 2, 7, 2, 6, 0, 0, 5, 0, 9, 3, 9, 4,\n",
              "       1, 0, 4, 3, 2, 6, 7, 9, 0, 7, 1, 8, 3, 8, 6, 2, 1, 6, 2, 3, 3, 3,\n",
              "       7, 1, 1, 0, 4, 5, 6, 9, 4, 3, 5, 5, 3, 0, 2, 5, 5, 4, 6, 4, 1, 8,\n",
              "       3, 5, 6, 4, 2, 7, 4, 0, 1, 4, 9, 9, 8, 8, 3, 2, 9, 5, 9, 5, 0, 4,\n",
              "       0, 7, 1, 4, 9, 3, 4, 8, 1, 9, 0, 7, 5, 0, 5, 5, 3, 6, 5, 3, 6, 6,\n",
              "       4, 3, 8, 2, 7, 9, 7, 5, 1, 8, 0, 9, 3, 6, 4, 0, 6, 4, 2, 2, 9, 6,\n",
              "       7, 4, 8, 1, 6, 2, 6, 2, 8, 9, 2, 5, 5, 3, 4, 3, 3, 3, 9, 2, 8, 1,\n",
              "       0, 0, 2, 8, 6, 1, 3, 8, 7, 6, 4, 2, 4, 1, 3, 9, 4, 0, 1, 9, 2, 6,\n",
              "       2, 4, 3, 9, 1, 6, 2, 6, 9, 7, 9, 4, 6, 4, 8, 5, 7, 7, 8, 3, 3, 4,\n",
              "       6, 3, 2, 3, 6, 4, 5, 6, 1, 5, 7, 6, 6, 5, 0, 0, 7, 3, 0, 1, 1, 4,\n",
              "       6, 8, 3, 9, 2, 4, 6, 7, 7, 5, 7, 4, 6, 7, 9, 2, 4, 0, 1, 9, 0, 7,\n",
              "       4, 1, 1, 0, 0, 0, 3, 5, 2, 7, 0, 9, 3, 5, 1, 3, 4, 0, 0, 7, 6, 7,\n",
              "       5, 3, 0, 9, 5, 3, 3, 9, 3, 1, 1, 2, 0, 7, 8, 8, 0, 4, 8, 2, 6, 4,\n",
              "       6, 0, 3, 9, 4, 5, 6, 6, 0, 3, 1, 0, 6, 1, 9, 4, 5, 0, 5, 7, 2, 2,\n",
              "       1, 6, 8, 8, 4, 1, 3, 8, 4, 6, 0, 5, 8, 0, 3, 2, 5, 3, 2, 6, 7, 1,\n",
              "       2, 4, 0, 6, 7, 8, 0, 6, 3, 8, 1, 7])"
            ]
          },
          "metadata": {},
          "execution_count": 94
        }
      ]
    },
    {
      "cell_type": "markdown",
      "source": [
        "## **Model Accuracy**"
      ],
      "metadata": {
        "id": "hXRCl_9gUdQz"
      }
    },
    {
      "cell_type": "code",
      "source": [
        "from sklearn.metrics import confusion_matrix, classification_report"
      ],
      "metadata": {
        "id": "1coRtqGCdEEx"
      },
      "execution_count": null,
      "outputs": []
    },
    {
      "cell_type": "code",
      "source": [
        "confusion_matrix(y_test, y_pred)"
      ],
      "metadata": {
        "colab": {
          "base_uri": "https://localhost:8080/"
        },
        "id": "KVQe3QI6UiMq",
        "outputId": "a225780e-7e75-4e89-cf3a-c5c815f9bc32"
      },
      "execution_count": 96,
      "outputs": [
        {
          "output_type": "execute_result",
          "data": {
            "text/plain": [
              "array([[64,  0,  0,  0,  1,  0,  0,  0,  0,  0],\n",
              "       [ 0, 58,  0,  0,  0,  0,  0,  0,  0,  0],\n",
              "       [ 1,  0, 53,  0,  0,  0,  0,  0,  0,  0],\n",
              "       [ 0,  0,  0, 60,  0,  0,  0,  0,  2,  0],\n",
              "       [ 0,  0,  0,  0, 53,  0,  0,  0,  0,  0],\n",
              "       [ 0,  0,  0,  0,  1, 45,  0,  0,  0,  1],\n",
              "       [ 1,  0,  0,  0,  1,  0, 57,  0,  0,  0],\n",
              "       [ 0,  0,  0,  0,  1,  0,  0, 43,  0,  0],\n",
              "       [ 0,  1,  0,  0,  0,  0,  0,  0, 43,  0],\n",
              "       [ 0,  1,  0,  0,  0,  0,  0,  0,  1, 52]])"
            ]
          },
          "metadata": {},
          "execution_count": 96
        }
      ]
    },
    {
      "cell_type": "code",
      "source": [
        "print(classification_report(y_test, y_pred))"
      ],
      "metadata": {
        "colab": {
          "base_uri": "https://localhost:8080/"
        },
        "id": "XEyvSWEjUkRT",
        "outputId": "0b97b697-55fe-4dc1-82de-b1faa3b74fca"
      },
      "execution_count": 97,
      "outputs": [
        {
          "output_type": "stream",
          "name": "stdout",
          "text": [
            "              precision    recall  f1-score   support\n",
            "\n",
            "           0       0.97      0.98      0.98        65\n",
            "           1       0.97      1.00      0.98        58\n",
            "           2       1.00      0.98      0.99        54\n",
            "           3       1.00      0.97      0.98        62\n",
            "           4       0.93      1.00      0.96        53\n",
            "           5       1.00      0.96      0.98        47\n",
            "           6       1.00      0.97      0.98        59\n",
            "           7       1.00      0.98      0.99        44\n",
            "           8       0.93      0.98      0.96        44\n",
            "           9       0.98      0.96      0.97        54\n",
            "\n",
            "    accuracy                           0.98       540\n",
            "   macro avg       0.98      0.98      0.98       540\n",
            "weighted avg       0.98      0.98      0.98       540\n",
            "\n"
          ]
        }
      ]
    },
    {
      "cell_type": "markdown",
      "source": [
        "\n",
        "# Hand Written Digit Classification\n",
        "\n",
        "This project demonstrates the classification of handwritten digits using a Random Forest classifier. The project utilizes the sklearn library for data loading, processing, and model training.\n",
        "\n",
        "**Data Import and Description:**\n",
        "\n",
        "- The `load_digits()` function from sklearn is used to import the handwritten digit dataset.\n",
        "- The `DESCR` attribute of the dataset provides a detailed description of the data.\n",
        "\n",
        "**Data Visualization:**\n",
        "\n",
        "- Four randomly selected images from the dataset are visualized using matplotlib.\n",
        "\n",
        "**Data Processing:**\n",
        "\n",
        "- The images are reshaped into a one-dimensional array for further processing.\n",
        "- The data is then scaled by dividing by 16 to normalize the pixel values.\n",
        "\n",
        "**Train-Test Split:**\n",
        "\n",
        "- The data is split into training and testing sets using the `train_test_split` function.\n",
        "- This allows for evaluating the model's performance on unseen data.\n",
        "\n",
        "**Random Forest Model:**\n",
        "\n",
        "- A Random Forest classifier is trained on the training data.\n",
        "- The trained model is then used to predict the labels of the test data.\n",
        "\n",
        "**Model Accuracy:**\n",
        "\n",
        "- The `confusion_matrix` and `classification_report` functions are used to evaluate the model's accuracy.\n",
        "- These metrics provide information about the number of correct and incorrect predictions.\n",
        "\n",
        "\n"
      ],
      "metadata": {
        "id": "FMbKaTP-UtQq"
      }
    },
    {
      "cell_type": "markdown",
      "source": [
        "#**Explanation:**\n",
        "\n",
        "This project showcases the application of a Random Forest classifier for handwritten digit recognition. The project demonstrates the steps involved in data loading, processing, model training, and evaluation."
      ],
      "metadata": {
        "id": "ImLnhIi0WcZP"
      }
    }
  ]
}